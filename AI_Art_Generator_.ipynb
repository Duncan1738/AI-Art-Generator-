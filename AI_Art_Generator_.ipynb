{
  "nbformat": 4,
  "nbformat_minor": 0,
  "metadata": {
    "colab": {
      "provenance": [],
      "authorship_tag": "ABX9TyP2ZVtjpb7PQ7mulLw4GwXD",
      "include_colab_link": true
    },
    "kernelspec": {
      "name": "python3",
      "display_name": "Python 3"
    },
    "language_info": {
      "name": "python"
    }
  },
  "cells": [
    {
      "cell_type": "markdown",
      "metadata": {
        "id": "view-in-github",
        "colab_type": "text"
      },
      "source": [
        "<a href=\"https://colab.research.google.com/github/Duncan1738/AI-Art-Generator-/blob/main/AI_Art_Generator_.ipynb\" target=\"_parent\"><img src=\"https://colab.research.google.com/assets/colab-badge.svg\" alt=\"Open In Colab\"/></a>"
      ]
    },
    {
      "cell_type": "code",
      "execution_count": null,
      "metadata": {
        "id": "XvuQRDhXFnQY"
      },
      "outputs": [],
      "source": [
        "# ========================\n",
        "# 📌 Install Dependencies\n",
        "# ========================\n",
        "!pip install torch torchvision torchaudio --index-url https://download.pytorch.org/whl/cu118\n",
        "!pip install diffusers transformers accelerate safetensors\n",
        "\n",
        "# ===========================\n",
        "# 🎨 Load Stable Diffusion Model\n",
        "# ===========================\n",
        "from diffusers import StableDiffusionPipeline\n",
        "import torch\n",
        "from PIL import Image\n",
        "\n",
        "# Load the model\n",
        "pipe = StableDiffusionPipeline.from_pretrained(\"runwayml/stable-diffusion-v1-5\")\n",
        "pipe.to(\"cuda\")  # Use GPU for faster generation\n",
        "\n",
        "# ===========================\n",
        "# 🎨 Generate AI Art from Text\n",
        "# ===========================\n",
        "def generate_image(prompt, steps=50, guidance=7.5):\n",
        "    print(f\"Generating: {prompt}\")\n",
        "    image = pipe(prompt, num_inference_steps=steps, guidance_scale=guidance).images[0]\n",
        "    return image\n",
        "\n",
        "# Example prompt\n",
        "prompt = \"A futuristic cyberpunk city with neon lights\"\n",
        "image = generate_image(prompt)\n",
        "\n",
        "# ===========================\n",
        "# 🖼️ Display the Generated Image\n",
        "# ===========================\n",
        "image.show()\n",
        "\n",
        "# ===========================\n",
        "# 💾 Save the Image\n",
        "# ===========================\n",
        "image_path = \"/content/ai_art.png\"\n",
        "image.save(image_path)\n",
        "print(f\"Image saved to {image_path}\")\n",
        "\n",
        "# ===========================\n",
        "# 🔗 View in Colab\n",
        "# ===========================\n",
        "from IPython.display import display\n",
        "display(image)\n"
      ]
    }
  ]
}